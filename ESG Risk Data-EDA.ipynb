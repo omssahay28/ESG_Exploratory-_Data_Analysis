{
 "cells": [
  {
   "cell_type": "markdown",
   "id": "a78d05dd",
   "metadata": {},
   "source": [
    "# Exploratory Data Analysis (EDA)"
   ]
  },
  {
   "cell_type": "code",
   "execution_count": 1,
   "id": "37744844",
   "metadata": {},
   "outputs": [],
   "source": [
    "import pandas as pd"
   ]
  },
  {
   "cell_type": "code",
   "execution_count": 26,
   "id": "009b6b80",
   "metadata": {},
   "outputs": [],
   "source": [
    "ESG = pd.read_csv(\"esg.csv\")"
   ]
  },
  {
   "cell_type": "code",
   "execution_count": 27,
   "id": "51446ef9",
   "metadata": {},
   "outputs": [
    {
     "data": {
      "text/html": [
       "<div>\n",
       "<style scoped>\n",
       "    .dataframe tbody tr th:only-of-type {\n",
       "        vertical-align: middle;\n",
       "    }\n",
       "\n",
       "    .dataframe tbody tr th {\n",
       "        vertical-align: top;\n",
       "    }\n",
       "\n",
       "    .dataframe thead th {\n",
       "        text-align: right;\n",
       "    }\n",
       "</style>\n",
       "<table border=\"1\" class=\"dataframe\">\n",
       "  <thead>\n",
       "    <tr style=\"text-align: right;\">\n",
       "      <th></th>\n",
       "      <th>Symbol</th>\n",
       "      <th>Name</th>\n",
       "      <th>Address</th>\n",
       "      <th>Sector</th>\n",
       "      <th>Industry</th>\n",
       "      <th>Full Time Employees</th>\n",
       "      <th>Description</th>\n",
       "      <th>Total ESG Risk score</th>\n",
       "      <th>Environment Risk Score</th>\n",
       "      <th>Governance Risk Score</th>\n",
       "      <th>Social Risk Score</th>\n",
       "      <th>Controversy Level</th>\n",
       "      <th>Controversy Score</th>\n",
       "      <th>ESG Risk Percentile</th>\n",
       "      <th>ESG Risk Level</th>\n",
       "    </tr>\n",
       "  </thead>\n",
       "  <tbody>\n",
       "    <tr>\n",
       "      <th>0</th>\n",
       "      <td>A</td>\n",
       "      <td>Agilent Technologies Inc</td>\n",
       "      <td>5301 Stevens Creek Boulevard\\nSanta Clara, CA ...</td>\n",
       "      <td>Healthcare</td>\n",
       "      <td>Diagnostics &amp; Research</td>\n",
       "      <td>18,000</td>\n",
       "      <td>Agilent Technologies, Inc. provides applicatio...</td>\n",
       "      <td>15.0</td>\n",
       "      <td>0.3</td>\n",
       "      <td>6.3</td>\n",
       "      <td>8.6</td>\n",
       "      <td>Low</td>\n",
       "      <td>1.0</td>\n",
       "      <td>11th percentile</td>\n",
       "      <td>Low</td>\n",
       "    </tr>\n",
       "    <tr>\n",
       "      <th>1</th>\n",
       "      <td>AAL</td>\n",
       "      <td>American Airlines Group Inc</td>\n",
       "      <td>1 Skyview Drive\\nFort Worth, TX 76155\\nUnited ...</td>\n",
       "      <td>Industrials</td>\n",
       "      <td>Airlines</td>\n",
       "      <td>132,500</td>\n",
       "      <td>American Airlines Group Inc., through its subs...</td>\n",
       "      <td>29.0</td>\n",
       "      <td>12.0</td>\n",
       "      <td>5.0</td>\n",
       "      <td>12.0</td>\n",
       "      <td>Moderate</td>\n",
       "      <td>2.0</td>\n",
       "      <td>62nd percentile</td>\n",
       "      <td>NaN</td>\n",
       "    </tr>\n",
       "    <tr>\n",
       "      <th>2</th>\n",
       "      <td>AAP</td>\n",
       "      <td>Advance Auto Parts Inc</td>\n",
       "      <td>4200 Six Forks Road\\nRaleigh, NC 27609\\nUnited...</td>\n",
       "      <td>Consumer Cyclical</td>\n",
       "      <td>Specialty Retail</td>\n",
       "      <td>40,000</td>\n",
       "      <td>Advance Auto Parts, Inc. provides automotive r...</td>\n",
       "      <td>12.0</td>\n",
       "      <td>0.0</td>\n",
       "      <td>3.0</td>\n",
       "      <td>8.0</td>\n",
       "      <td>Moderate</td>\n",
       "      <td>2.0</td>\n",
       "      <td>4th percentile</td>\n",
       "      <td>Negligible</td>\n",
       "    </tr>\n",
       "    <tr>\n",
       "      <th>3</th>\n",
       "      <td>AAPL</td>\n",
       "      <td>Apple Inc</td>\n",
       "      <td>One Apple Park Way\\nCupertino, CA 95014\\nUnite...</td>\n",
       "      <td>Technology</td>\n",
       "      <td>Consumer Electronics</td>\n",
       "      <td>164,000</td>\n",
       "      <td>Apple Inc. designs, manufactures, and markets ...</td>\n",
       "      <td>17.0</td>\n",
       "      <td>0.6</td>\n",
       "      <td>9.2</td>\n",
       "      <td>6.9</td>\n",
       "      <td>Significant</td>\n",
       "      <td>3.0</td>\n",
       "      <td>15th percentile</td>\n",
       "      <td>Low</td>\n",
       "    </tr>\n",
       "    <tr>\n",
       "      <th>4</th>\n",
       "      <td>ABBV</td>\n",
       "      <td>Abbvie Inc</td>\n",
       "      <td>1 North Waukegan Road\\nNorth Chicago, IL 60064...</td>\n",
       "      <td>Healthcare</td>\n",
       "      <td>Drug Manufacturers—General</td>\n",
       "      <td>50,000</td>\n",
       "      <td>AbbVie Inc. discovers, develops, manufactures,...</td>\n",
       "      <td>28.0</td>\n",
       "      <td>1.1</td>\n",
       "      <td>9.9</td>\n",
       "      <td>16.8</td>\n",
       "      <td>Significant</td>\n",
       "      <td>3.0</td>\n",
       "      <td>55th percentile</td>\n",
       "      <td>Medium</td>\n",
       "    </tr>\n",
       "  </tbody>\n",
       "</table>\n",
       "</div>"
      ],
      "text/plain": [
       "  Symbol                         Name  \\\n",
       "0      A     Agilent Technologies Inc   \n",
       "1    AAL  American Airlines Group Inc   \n",
       "2    AAP       Advance Auto Parts Inc   \n",
       "3   AAPL                    Apple Inc   \n",
       "4   ABBV                   Abbvie Inc   \n",
       "\n",
       "                                             Address             Sector  \\\n",
       "0  5301 Stevens Creek Boulevard\\nSanta Clara, CA ...         Healthcare   \n",
       "1  1 Skyview Drive\\nFort Worth, TX 76155\\nUnited ...        Industrials   \n",
       "2  4200 Six Forks Road\\nRaleigh, NC 27609\\nUnited...  Consumer Cyclical   \n",
       "3  One Apple Park Way\\nCupertino, CA 95014\\nUnite...         Technology   \n",
       "4  1 North Waukegan Road\\nNorth Chicago, IL 60064...         Healthcare   \n",
       "\n",
       "                     Industry Full Time Employees  \\\n",
       "0      Diagnostics & Research              18,000   \n",
       "1                    Airlines             132,500   \n",
       "2            Specialty Retail              40,000   \n",
       "3        Consumer Electronics             164,000   \n",
       "4  Drug Manufacturers—General              50,000   \n",
       "\n",
       "                                         Description  Total ESG Risk score  \\\n",
       "0  Agilent Technologies, Inc. provides applicatio...                  15.0   \n",
       "1  American Airlines Group Inc., through its subs...                  29.0   \n",
       "2  Advance Auto Parts, Inc. provides automotive r...                  12.0   \n",
       "3  Apple Inc. designs, manufactures, and markets ...                  17.0   \n",
       "4  AbbVie Inc. discovers, develops, manufactures,...                  28.0   \n",
       "\n",
       "   Environment Risk Score  Governance Risk Score  Social Risk Score  \\\n",
       "0                     0.3                    6.3                8.6   \n",
       "1                    12.0                    5.0               12.0   \n",
       "2                     0.0                    3.0                8.0   \n",
       "3                     0.6                    9.2                6.9   \n",
       "4                     1.1                    9.9               16.8   \n",
       "\n",
       "  Controversy Level  Controversy Score ESG Risk Percentile ESG Risk Level  \n",
       "0               Low                1.0     11th percentile            Low  \n",
       "1          Moderate                2.0     62nd percentile            NaN  \n",
       "2          Moderate                2.0      4th percentile     Negligible  \n",
       "3       Significant                3.0     15th percentile            Low  \n",
       "4       Significant                3.0     55th percentile         Medium  "
      ]
     },
     "execution_count": 27,
     "metadata": {},
     "output_type": "execute_result"
    }
   ],
   "source": [
    "ESG.head()"
   ]
  },
  {
   "cell_type": "code",
   "execution_count": 28,
   "id": "7ad47f6d",
   "metadata": {},
   "outputs": [],
   "source": [
    "ESG = ESG.drop(['Symbol', 'Name', 'Address', 'Full Time Employees', 'Description', 'Industry', 'Controversy Level', 'Controversy Score', 'ESG Risk Percentile',\n",
    "               'ESG Risk Percentile', 'ESG Risk Level'], axis=1)"
   ]
  },
  {
   "cell_type": "code",
   "execution_count": 29,
   "id": "709501e5",
   "metadata": {},
   "outputs": [
    {
     "data": {
      "text/html": [
       "<div>\n",
       "<style scoped>\n",
       "    .dataframe tbody tr th:only-of-type {\n",
       "        vertical-align: middle;\n",
       "    }\n",
       "\n",
       "    .dataframe tbody tr th {\n",
       "        vertical-align: top;\n",
       "    }\n",
       "\n",
       "    .dataframe thead th {\n",
       "        text-align: right;\n",
       "    }\n",
       "</style>\n",
       "<table border=\"1\" class=\"dataframe\">\n",
       "  <thead>\n",
       "    <tr style=\"text-align: right;\">\n",
       "      <th></th>\n",
       "      <th>Sector</th>\n",
       "      <th>Total ESG Risk score</th>\n",
       "      <th>Environment Risk Score</th>\n",
       "      <th>Governance Risk Score</th>\n",
       "      <th>Social Risk Score</th>\n",
       "    </tr>\n",
       "  </thead>\n",
       "  <tbody>\n",
       "    <tr>\n",
       "      <th>0</th>\n",
       "      <td>Healthcare</td>\n",
       "      <td>15.0</td>\n",
       "      <td>0.3</td>\n",
       "      <td>6.3</td>\n",
       "      <td>8.6</td>\n",
       "    </tr>\n",
       "    <tr>\n",
       "      <th>1</th>\n",
       "      <td>Industrials</td>\n",
       "      <td>29.0</td>\n",
       "      <td>12.0</td>\n",
       "      <td>5.0</td>\n",
       "      <td>12.0</td>\n",
       "    </tr>\n",
       "    <tr>\n",
       "      <th>2</th>\n",
       "      <td>Consumer Cyclical</td>\n",
       "      <td>12.0</td>\n",
       "      <td>0.0</td>\n",
       "      <td>3.0</td>\n",
       "      <td>8.0</td>\n",
       "    </tr>\n",
       "    <tr>\n",
       "      <th>3</th>\n",
       "      <td>Technology</td>\n",
       "      <td>17.0</td>\n",
       "      <td>0.6</td>\n",
       "      <td>9.2</td>\n",
       "      <td>6.9</td>\n",
       "    </tr>\n",
       "    <tr>\n",
       "      <th>4</th>\n",
       "      <td>Healthcare</td>\n",
       "      <td>28.0</td>\n",
       "      <td>1.1</td>\n",
       "      <td>9.9</td>\n",
       "      <td>16.8</td>\n",
       "    </tr>\n",
       "  </tbody>\n",
       "</table>\n",
       "</div>"
      ],
      "text/plain": [
       "              Sector  Total ESG Risk score  Environment Risk Score  \\\n",
       "0         Healthcare                  15.0                     0.3   \n",
       "1        Industrials                  29.0                    12.0   \n",
       "2  Consumer Cyclical                  12.0                     0.0   \n",
       "3         Technology                  17.0                     0.6   \n",
       "4         Healthcare                  28.0                     1.1   \n",
       "\n",
       "   Governance Risk Score  Social Risk Score  \n",
       "0                    6.3                8.6  \n",
       "1                    5.0               12.0  \n",
       "2                    3.0                8.0  \n",
       "3                    9.2                6.9  \n",
       "4                    9.9               16.8  "
      ]
     },
     "execution_count": 29,
     "metadata": {},
     "output_type": "execute_result"
    }
   ],
   "source": [
    "ESG.head()"
   ]
  },
  {
   "cell_type": "code",
   "execution_count": 30,
   "id": "ffe8d1a1",
   "metadata": {},
   "outputs": [
    {
     "name": "stdout",
     "output_type": "stream",
     "text": [
      "<class 'pandas.core.frame.DataFrame'>\n",
      "RangeIndex: 503 entries, 0 to 502\n",
      "Data columns (total 5 columns):\n",
      " #   Column                  Non-Null Count  Dtype  \n",
      "---  ------                  --------------  -----  \n",
      " 0   Sector                  501 non-null    object \n",
      " 1   Total ESG Risk score    433 non-null    float64\n",
      " 2   Environment Risk Score  433 non-null    float64\n",
      " 3   Governance Risk Score   433 non-null    float64\n",
      " 4   Social Risk Score       433 non-null    float64\n",
      "dtypes: float64(4), object(1)\n",
      "memory usage: 19.8+ KB\n"
     ]
    }
   ],
   "source": [
    "ESG.info()"
   ]
  },
  {
   "cell_type": "code",
   "execution_count": 31,
   "id": "4b8c3b02",
   "metadata": {},
   "outputs": [
    {
     "data": {
      "text/html": [
       "<div>\n",
       "<style scoped>\n",
       "    .dataframe tbody tr th:only-of-type {\n",
       "        vertical-align: middle;\n",
       "    }\n",
       "\n",
       "    .dataframe tbody tr th {\n",
       "        vertical-align: top;\n",
       "    }\n",
       "\n",
       "    .dataframe thead th {\n",
       "        text-align: right;\n",
       "    }\n",
       "</style>\n",
       "<table border=\"1\" class=\"dataframe\">\n",
       "  <thead>\n",
       "    <tr style=\"text-align: right;\">\n",
       "      <th></th>\n",
       "      <th>Total ESG Risk score</th>\n",
       "      <th>Environment Risk Score</th>\n",
       "      <th>Governance Risk Score</th>\n",
       "      <th>Social Risk Score</th>\n",
       "    </tr>\n",
       "  </thead>\n",
       "  <tbody>\n",
       "    <tr>\n",
       "      <th>count</th>\n",
       "      <td>433.000000</td>\n",
       "      <td>433.000000</td>\n",
       "      <td>433.000000</td>\n",
       "      <td>433.000000</td>\n",
       "    </tr>\n",
       "    <tr>\n",
       "      <th>mean</th>\n",
       "      <td>21.422633</td>\n",
       "      <td>5.678984</td>\n",
       "      <td>6.673903</td>\n",
       "      <td>9.045035</td>\n",
       "    </tr>\n",
       "    <tr>\n",
       "      <th>std</th>\n",
       "      <td>7.264458</td>\n",
       "      <td>5.339965</td>\n",
       "      <td>2.201049</td>\n",
       "      <td>3.813788</td>\n",
       "    </tr>\n",
       "    <tr>\n",
       "      <th>min</th>\n",
       "      <td>7.000000</td>\n",
       "      <td>0.000000</td>\n",
       "      <td>3.000000</td>\n",
       "      <td>1.100000</td>\n",
       "    </tr>\n",
       "    <tr>\n",
       "      <th>25%</th>\n",
       "      <td>16.000000</td>\n",
       "      <td>1.500000</td>\n",
       "      <td>5.000000</td>\n",
       "      <td>6.600000</td>\n",
       "    </tr>\n",
       "    <tr>\n",
       "      <th>50%</th>\n",
       "      <td>21.000000</td>\n",
       "      <td>3.800000</td>\n",
       "      <td>6.000000</td>\n",
       "      <td>8.700000</td>\n",
       "    </tr>\n",
       "    <tr>\n",
       "      <th>75%</th>\n",
       "      <td>26.000000</td>\n",
       "      <td>8.900000</td>\n",
       "      <td>7.700000</td>\n",
       "      <td>11.600000</td>\n",
       "    </tr>\n",
       "    <tr>\n",
       "      <th>max</th>\n",
       "      <td>46.000000</td>\n",
       "      <td>25.000000</td>\n",
       "      <td>15.500000</td>\n",
       "      <td>21.000000</td>\n",
       "    </tr>\n",
       "  </tbody>\n",
       "</table>\n",
       "</div>"
      ],
      "text/plain": [
       "       Total ESG Risk score  Environment Risk Score  Governance Risk Score  \\\n",
       "count            433.000000              433.000000             433.000000   \n",
       "mean              21.422633                5.678984               6.673903   \n",
       "std                7.264458                5.339965               2.201049   \n",
       "min                7.000000                0.000000               3.000000   \n",
       "25%               16.000000                1.500000               5.000000   \n",
       "50%               21.000000                3.800000               6.000000   \n",
       "75%               26.000000                8.900000               7.700000   \n",
       "max               46.000000               25.000000              15.500000   \n",
       "\n",
       "       Social Risk Score  \n",
       "count         433.000000  \n",
       "mean            9.045035  \n",
       "std             3.813788  \n",
       "min             1.100000  \n",
       "25%             6.600000  \n",
       "50%             8.700000  \n",
       "75%            11.600000  \n",
       "max            21.000000  "
      ]
     },
     "execution_count": 31,
     "metadata": {},
     "output_type": "execute_result"
    }
   ],
   "source": [
    "ESG.describe()"
   ]
  },
  {
   "cell_type": "code",
   "execution_count": 32,
   "id": "1f03a34d",
   "metadata": {},
   "outputs": [
    {
     "name": "stdout",
     "output_type": "stream",
     "text": [
      "The unique categories of species are:\n"
     ]
    },
    {
     "data": {
      "text/plain": [
       "array(['Healthcare', 'Industrials', 'Consumer Cyclical', 'Technology',\n",
       "       'Financial Services', 'Consumer Defensive', 'Utilities',\n",
       "       'Basic Materials', 'Real Estate', 'Energy',\n",
       "       'Communication Services', nan], dtype=object)"
      ]
     },
     "execution_count": 32,
     "metadata": {},
     "output_type": "execute_result"
    }
   ],
   "source": [
    "print(\"The unique categories of species are:\")\n",
    "ESG.Sector.unique()"
   ]
  },
  {
   "cell_type": "code",
   "execution_count": 33,
   "id": "4fbbbbc0",
   "metadata": {},
   "outputs": [
    {
     "data": {
      "text/plain": [
       "12"
      ]
     },
     "execution_count": 33,
     "metadata": {},
     "output_type": "execute_result"
    }
   ],
   "source": [
    "len(ESG.Sector.unique()) # len is for length"
   ]
  },
  {
   "cell_type": "code",
   "execution_count": 34,
   "id": "2e5527d1",
   "metadata": {},
   "outputs": [
    {
     "name": "stdout",
     "output_type": "stream",
     "text": [
      "The frequency table of species are:\n",
      "\n"
     ]
    },
    {
     "data": {
      "text/plain": [
       "Technology                75\n",
       "Industrials               70\n",
       "Healthcare                67\n",
       "Financial Services        67\n",
       "Consumer Cyclical         58\n",
       "Consumer Defensive        36\n",
       "Real Estate               31\n",
       "Utilities                 30\n",
       "Communication Services    23\n",
       "Basic Materials           22\n",
       "Energy                    22\n",
       "Name: Sector, dtype: int64"
      ]
     },
     "execution_count": 34,
     "metadata": {},
     "output_type": "execute_result"
    }
   ],
   "source": [
    "print(\"The frequency table of species are:\\n\")\n",
    "ESG.Sector.value_counts()"
   ]
  },
  {
   "cell_type": "code",
   "execution_count": 37,
   "id": "d9f77546",
   "metadata": {},
   "outputs": [
    {
     "name": "stdout",
     "output_type": "stream",
     "text": [
      "The percentage for each category of species are:\n",
      "\n"
     ]
    },
    {
     "data": {
      "text/plain": [
       "Technology                14.970060\n",
       "Industrials               13.972056\n",
       "Healthcare                13.373253\n",
       "Financial Services        13.373253\n",
       "Consumer Cyclical         11.576846\n",
       "Consumer Defensive         7.185629\n",
       "Real Estate                6.187625\n",
       "Utilities                  5.988024\n",
       "Communication Services     4.590818\n",
       "Basic Materials            4.391218\n",
       "Energy                     4.391218\n",
       "Name: Sector, dtype: float64"
      ]
     },
     "execution_count": 37,
     "metadata": {},
     "output_type": "execute_result"
    }
   ],
   "source": [
    "print(\"The percentage for each category of species are:\\n\")\n",
    "ESG.Sector.value_counts(normalize = True) * 100 #normalize function is for data cleaning if needed"
   ]
  },
  {
   "cell_type": "code",
   "execution_count": 100,
   "id": "56f089ed",
   "metadata": {},
   "outputs": [
    {
     "data": {
      "text/plain": [
       "<AxesSubplot:title={'center':'Bar Chart of Sector in ESG Data'}>"
      ]
     },
     "execution_count": 100,
     "metadata": {},
     "output_type": "execute_result"
    },
    {
     "data": {
      "image/png": "[encoded data removed]",
      "text/plain": [
       "<Figure size 432x288 with 1 Axes>"
      ]
     },
     "metadata": {
      "needs_background": "light"
     },
     "output_type": "display_data"
    }
   ],
   "source": [
    "ESG.Sector.value_counts().plot.bar(title = \"Bar Chart of Sector in ESG Data\")"
   ]
  },
  {
   "cell_type": "code",
   "execution_count": 40,
   "id": "3d065c31",
   "metadata": {},
   "outputs": [],
   "source": [
    "import matplotlib.pyplot as plt"
   ]
  },
  {
   "cell_type": "code",
   "execution_count": 41,
   "id": "dd248d35",
   "metadata": {},
   "outputs": [
    {
     "data": {
      "image/png": "[encoded data removed]",
      "text/plain": [
       "<Figure size 432x288 with 1 Axes>"
      ]
     },
     "metadata": {},
     "output_type": "display_data"
    }
   ],
   "source": [
    "ESG.Sector.value_counts().plot.pie(autopct='%1.1f%%',\n",
    "                                     title = \"Pie Chart of Sector in ESG Data\")\n",
    "                                     \n",
    "plt.axis('equal') #applied to any piechart, and only for piechart\n",
    "plt.show()"
   ]
  },
  {
   "cell_type": "code",
   "execution_count": 43,
   "id": "45774c38",
   "metadata": {},
   "outputs": [
    {
     "data": {
      "text/html": [
       "<div>\n",
       "<style scoped>\n",
       "    .dataframe tbody tr th:only-of-type {\n",
       "        vertical-align: middle;\n",
       "    }\n",
       "\n",
       "    .dataframe tbody tr th {\n",
       "        vertical-align: top;\n",
       "    }\n",
       "\n",
       "    .dataframe thead th {\n",
       "        text-align: right;\n",
       "    }\n",
       "</style>\n",
       "<table border=\"1\" class=\"dataframe\">\n",
       "  <thead>\n",
       "    <tr style=\"text-align: right;\">\n",
       "      <th></th>\n",
       "      <th>Sector</th>\n",
       "      <th>Total ESG Risk score</th>\n",
       "      <th>Environment Risk Score</th>\n",
       "      <th>Governance Risk Score</th>\n",
       "      <th>Social Risk Score</th>\n",
       "    </tr>\n",
       "  </thead>\n",
       "  <tbody>\n",
       "    <tr>\n",
       "      <th>0</th>\n",
       "      <td>Healthcare</td>\n",
       "      <td>15.0</td>\n",
       "      <td>0.3</td>\n",
       "      <td>6.3</td>\n",
       "      <td>8.6</td>\n",
       "    </tr>\n",
       "    <tr>\n",
       "      <th>1</th>\n",
       "      <td>Industrials</td>\n",
       "      <td>29.0</td>\n",
       "      <td>12.0</td>\n",
       "      <td>5.0</td>\n",
       "      <td>12.0</td>\n",
       "    </tr>\n",
       "    <tr>\n",
       "      <th>2</th>\n",
       "      <td>Consumer Cyclical</td>\n",
       "      <td>12.0</td>\n",
       "      <td>0.0</td>\n",
       "      <td>3.0</td>\n",
       "      <td>8.0</td>\n",
       "    </tr>\n",
       "    <tr>\n",
       "      <th>3</th>\n",
       "      <td>Technology</td>\n",
       "      <td>17.0</td>\n",
       "      <td>0.6</td>\n",
       "      <td>9.2</td>\n",
       "      <td>6.9</td>\n",
       "    </tr>\n",
       "    <tr>\n",
       "      <th>4</th>\n",
       "      <td>Healthcare</td>\n",
       "      <td>28.0</td>\n",
       "      <td>1.1</td>\n",
       "      <td>9.9</td>\n",
       "      <td>16.8</td>\n",
       "    </tr>\n",
       "  </tbody>\n",
       "</table>\n",
       "</div>"
      ],
      "text/plain": [
       "              Sector  Total ESG Risk score  Environment Risk Score  \\\n",
       "0         Healthcare                  15.0                     0.3   \n",
       "1        Industrials                  29.0                    12.0   \n",
       "2  Consumer Cyclical                  12.0                     0.0   \n",
       "3         Technology                  17.0                     0.6   \n",
       "4         Healthcare                  28.0                     1.1   \n",
       "\n",
       "   Governance Risk Score  Social Risk Score  \n",
       "0                    6.3                8.6  \n",
       "1                    5.0               12.0  \n",
       "2                    3.0                8.0  \n",
       "3                    9.2                6.9  \n",
       "4                    9.9               16.8  "
      ]
     },
     "execution_count": 43,
     "metadata": {},
     "output_type": "execute_result"
    }
   ],
   "source": [
    "ESG.head()"
   ]
  },
  {
   "cell_type": "code",
   "execution_count": 45,
   "id": "8cbace84",
   "metadata": {},
   "outputs": [
    {
     "data": {
      "text/plain": [
       "21.422632794457275"
      ]
     },
     "execution_count": 45,
     "metadata": {},
     "output_type": "execute_result"
    }
   ],
   "source": [
    "ESG['Total ESG Risk score'].mean()"
   ]
  },
  {
   "cell_type": "code",
   "execution_count": 46,
   "id": "c0f61082",
   "metadata": {},
   "outputs": [
    {
     "data": {
      "text/plain": [
       "0    16.0\n",
       "1    24.0\n",
       "dtype: float64"
      ]
     },
     "execution_count": 46,
     "metadata": {},
     "output_type": "execute_result"
    }
   ],
   "source": [
    "ESG['Total ESG Risk score'].mode()"
   ]
  },
  {
   "cell_type": "code",
   "execution_count": 47,
   "id": "6f93c5ac",
   "metadata": {},
   "outputs": [
    {
     "data": {
      "text/plain": [
       "21.0"
      ]
     },
     "execution_count": 47,
     "metadata": {},
     "output_type": "execute_result"
    }
   ],
   "source": [
    "ESG['Total ESG Risk score'].median()"
   ]
  },
  {
   "cell_type": "code",
   "execution_count": 63,
   "id": "afd0ed83",
   "metadata": {},
   "outputs": [],
   "source": [
    "import pandas as pd"
   ]
  },
  {
   "cell_type": "code",
   "execution_count": 64,
   "id": "2903bdce",
   "metadata": {},
   "outputs": [],
   "source": [
    "ESG = pd.read_csv(\"esg.csv\")"
   ]
  },
  {
   "cell_type": "code",
   "execution_count": 65,
   "id": "bbce0216",
   "metadata": {},
   "outputs": [
    {
     "data": {
      "text/html": [
       "<div>\n",
       "<style scoped>\n",
       "    .dataframe tbody tr th:only-of-type {\n",
       "        vertical-align: middle;\n",
       "    }\n",
       "\n",
       "    .dataframe tbody tr th {\n",
       "        vertical-align: top;\n",
       "    }\n",
       "\n",
       "    .dataframe thead th {\n",
       "        text-align: right;\n",
       "    }\n",
       "</style>\n",
       "<table border=\"1\" class=\"dataframe\">\n",
       "  <thead>\n",
       "    <tr style=\"text-align: right;\">\n",
       "      <th></th>\n",
       "      <th>Symbol</th>\n",
       "      <th>Name</th>\n",
       "      <th>Address</th>\n",
       "      <th>Sector</th>\n",
       "      <th>Industry</th>\n",
       "      <th>Full Time Employees</th>\n",
       "      <th>Description</th>\n",
       "      <th>Total ESG Risk score</th>\n",
       "      <th>Environment Risk Score</th>\n",
       "      <th>Governance Risk Score</th>\n",
       "      <th>Social Risk Score</th>\n",
       "      <th>Controversy Level</th>\n",
       "      <th>Controversy Score</th>\n",
       "      <th>ESG Risk Percentile</th>\n",
       "      <th>ESG Risk Level</th>\n",
       "    </tr>\n",
       "  </thead>\n",
       "  <tbody>\n",
       "    <tr>\n",
       "      <th>0</th>\n",
       "      <td>A</td>\n",
       "      <td>Agilent Technologies Inc</td>\n",
       "      <td>5301 Stevens Creek Boulevard\\nSanta Clara, CA ...</td>\n",
       "      <td>Healthcare</td>\n",
       "      <td>Diagnostics &amp; Research</td>\n",
       "      <td>18,000</td>\n",
       "      <td>Agilent Technologies, Inc. provides applicatio...</td>\n",
       "      <td>15.0</td>\n",
       "      <td>0.3</td>\n",
       "      <td>6.3</td>\n",
       "      <td>8.6</td>\n",
       "      <td>Low</td>\n",
       "      <td>1.0</td>\n",
       "      <td>11th percentile</td>\n",
       "      <td>Low</td>\n",
       "    </tr>\n",
       "    <tr>\n",
       "      <th>1</th>\n",
       "      <td>AAL</td>\n",
       "      <td>American Airlines Group Inc</td>\n",
       "      <td>1 Skyview Drive\\nFort Worth, TX 76155\\nUnited ...</td>\n",
       "      <td>Industrials</td>\n",
       "      <td>Airlines</td>\n",
       "      <td>132,500</td>\n",
       "      <td>American Airlines Group Inc., through its subs...</td>\n",
       "      <td>29.0</td>\n",
       "      <td>12.0</td>\n",
       "      <td>5.0</td>\n",
       "      <td>12.0</td>\n",
       "      <td>Moderate</td>\n",
       "      <td>2.0</td>\n",
       "      <td>62nd percentile</td>\n",
       "      <td>NaN</td>\n",
       "    </tr>\n",
       "    <tr>\n",
       "      <th>2</th>\n",
       "      <td>AAP</td>\n",
       "      <td>Advance Auto Parts Inc</td>\n",
       "      <td>4200 Six Forks Road\\nRaleigh, NC 27609\\nUnited...</td>\n",
       "      <td>Consumer Cyclical</td>\n",
       "      <td>Specialty Retail</td>\n",
       "      <td>40,000</td>\n",
       "      <td>Advance Auto Parts, Inc. provides automotive r...</td>\n",
       "      <td>12.0</td>\n",
       "      <td>0.0</td>\n",
       "      <td>3.0</td>\n",
       "      <td>8.0</td>\n",
       "      <td>Moderate</td>\n",
       "      <td>2.0</td>\n",
       "      <td>4th percentile</td>\n",
       "      <td>Negligible</td>\n",
       "    </tr>\n",
       "    <tr>\n",
       "      <th>3</th>\n",
       "      <td>AAPL</td>\n",
       "      <td>Apple Inc</td>\n",
       "      <td>One Apple Park Way\\nCupertino, CA 95014\\nUnite...</td>\n",
       "      <td>Technology</td>\n",
       "      <td>Consumer Electronics</td>\n",
       "      <td>164,000</td>\n",
       "      <td>Apple Inc. designs, manufactures, and markets ...</td>\n",
       "      <td>17.0</td>\n",
       "      <td>0.6</td>\n",
       "      <td>9.2</td>\n",
       "      <td>6.9</td>\n",
       "      <td>Significant</td>\n",
       "      <td>3.0</td>\n",
       "      <td>15th percentile</td>\n",
       "      <td>Low</td>\n",
       "    </tr>\n",
       "    <tr>\n",
       "      <th>4</th>\n",
       "      <td>ABBV</td>\n",
       "      <td>Abbvie Inc</td>\n",
       "      <td>1 North Waukegan Road\\nNorth Chicago, IL 60064...</td>\n",
       "      <td>Healthcare</td>\n",
       "      <td>Drug Manufacturers—General</td>\n",
       "      <td>50,000</td>\n",
       "      <td>AbbVie Inc. discovers, develops, manufactures,...</td>\n",
       "      <td>28.0</td>\n",
       "      <td>1.1</td>\n",
       "      <td>9.9</td>\n",
       "      <td>16.8</td>\n",
       "      <td>Significant</td>\n",
       "      <td>3.0</td>\n",
       "      <td>55th percentile</td>\n",
       "      <td>Medium</td>\n",
       "    </tr>\n",
       "  </tbody>\n",
       "</table>\n",
       "</div>"
      ],
      "text/plain": [
       "  Symbol                         Name  \\\n",
       "0      A     Agilent Technologies Inc   \n",
       "1    AAL  American Airlines Group Inc   \n",
       "2    AAP       Advance Auto Parts Inc   \n",
       "3   AAPL                    Apple Inc   \n",
       "4   ABBV                   Abbvie Inc   \n",
       "\n",
       "                                             Address             Sector  \\\n",
       "0  5301 Stevens Creek Boulevard\\nSanta Clara, CA ...         Healthcare   \n",
       "1  1 Skyview Drive\\nFort Worth, TX 76155\\nUnited ...        Industrials   \n",
       "2  4200 Six Forks Road\\nRaleigh, NC 27609\\nUnited...  Consumer Cyclical   \n",
       "3  One Apple Park Way\\nCupertino, CA 95014\\nUnite...         Technology   \n",
       "4  1 North Waukegan Road\\nNorth Chicago, IL 60064...         Healthcare   \n",
       "\n",
       "                     Industry Full Time Employees  \\\n",
       "0      Diagnostics & Research              18,000   \n",
       "1                    Airlines             132,500   \n",
       "2            Specialty Retail              40,000   \n",
       "3        Consumer Electronics             164,000   \n",
       "4  Drug Manufacturers—General              50,000   \n",
       "\n",
       "                                         Description  Total ESG Risk score  \\\n",
       "0  Agilent Technologies, Inc. provides applicatio...                  15.0   \n",
       "1  American Airlines Group Inc., through its subs...                  29.0   \n",
       "2  Advance Auto Parts, Inc. provides automotive r...                  12.0   \n",
       "3  Apple Inc. designs, manufactures, and markets ...                  17.0   \n",
       "4  AbbVie Inc. discovers, develops, manufactures,...                  28.0   \n",
       "\n",
       "   Environment Risk Score  Governance Risk Score  Social Risk Score  \\\n",
       "0                     0.3                    6.3                8.6   \n",
       "1                    12.0                    5.0               12.0   \n",
       "2                     0.0                    3.0                8.0   \n",
       "3                     0.6                    9.2                6.9   \n",
       "4                     1.1                    9.9               16.8   \n",
       "\n",
       "  Controversy Level  Controversy Score ESG Risk Percentile ESG Risk Level  \n",
       "0               Low                1.0     11th percentile            Low  \n",
       "1          Moderate                2.0     62nd percentile            NaN  \n",
       "2          Moderate                2.0      4th percentile     Negligible  \n",
       "3       Significant                3.0     15th percentile            Low  \n",
       "4       Significant                3.0     55th percentile         Medium  "
      ]
     },
     "execution_count": 65,
     "metadata": {},
     "output_type": "execute_result"
    }
   ],
   "source": [
    "ESG.head()"
   ]
  },
  {
   "cell_type": "code",
   "execution_count": 66,
   "id": "a4c58ea4",
   "metadata": {},
   "outputs": [
    {
     "name": "stdout",
     "output_type": "stream",
     "text": [
      "The range of 'Total ESG Risk score' is: 39.0\n"
     ]
    }
   ],
   "source": [
    "range_total_ESG_risk = ESG['Total ESG Risk score'].max() - ESG['Total ESG Risk score'].min()\n",
    "print(f\"The range of 'Total ESG Risk score' is: {range_total_ESG_risk}\")"
   ]
  },
  {
   "cell_type": "code",
   "execution_count": 68,
   "id": "d1319578",
   "metadata": {},
   "outputs": [],
   "source": [
    "import numpy as np"
   ]
  },
  {
   "cell_type": "code",
   "execution_count": 74,
   "id": "fa5982fe",
   "metadata": {},
   "outputs": [],
   "source": [
    "ESG = ESG.dropna()"
   ]
  },
  {
   "cell_type": "code",
   "execution_count": 75,
   "id": "abd8790d",
   "metadata": {},
   "outputs": [],
   "source": [
    "quantile_ESG = (ESG['Total ESG Risk score'], .27)"
   ]
  },
  {
   "cell_type": "code",
   "execution_count": 76,
   "id": "9e20eb84",
   "metadata": {},
   "outputs": [
    {
     "data": {
      "text/plain": [
       "16.0"
      ]
     },
     "execution_count": 76,
     "metadata": {},
     "output_type": "execute_result"
    }
   ],
   "source": [
    "np.quantile(ESG['Total ESG Risk score'], .27)"
   ]
  },
  {
   "cell_type": "code",
   "execution_count": 77,
   "id": "06224fd2",
   "metadata": {},
   "outputs": [
    {
     "data": {
      "text/plain": [
       "'The IQR of no_siblings by manual compuation is 10.25'"
      ]
     },
     "execution_count": 77,
     "metadata": {},
     "output_type": "execute_result"
    }
   ],
   "source": [
    "q1, q3 = np.quantile(ESG['Total ESG Risk score'],[.25, .75])\n",
    "manual_iqr = q3-q1\n",
    "f\"The IQR of no_siblings by manual compuation is {manual_iqr}\""
   ]
  },
  {
   "cell_type": "code",
   "execution_count": 82,
   "id": "497c93b8",
   "metadata": {},
   "outputs": [],
   "source": [
    "from scipy.stats import iqr"
   ]
  },
  {
   "cell_type": "code",
   "execution_count": 83,
   "id": "d7bbd3fa",
   "metadata": {},
   "outputs": [
    {
     "data": {
      "text/plain": [
       "'The IQR of Total ESG Risk score using the scipy function is 10.25'"
      ]
     },
     "execution_count": 83,
     "metadata": {},
     "output_type": "execute_result"
    }
   ],
   "source": [
    "\n",
    "# Assuming 'ESG' is your DataFrame\n",
    "scipy_iqr = stats.iqr(ESG['Total ESG Risk score'])\n",
    "f\"The IQR of Total ESG Risk score using the scipy function is {scipy_iqr}\""
   ]
  },
  {
   "cell_type": "code",
   "execution_count": 85,
   "id": "eeec9a11",
   "metadata": {},
   "outputs": [],
   "source": [
    "lower_fence = np.quantile(ESG['Total ESG Risk score'],.25) - 1.5 * iqr(ESG['Total ESG Risk score'])"
   ]
  },
  {
   "cell_type": "code",
   "execution_count": 86,
   "id": "9e73fbf6",
   "metadata": {},
   "outputs": [
    {
     "data": {
      "text/plain": [
       "'lower fence is 0.625'"
      ]
     },
     "execution_count": 86,
     "metadata": {},
     "output_type": "execute_result"
    }
   ],
   "source": [
    "f\"lower fence is {lower_fence}\""
   ]
  },
  {
   "cell_type": "code",
   "execution_count": 87,
   "id": "736fc604",
   "metadata": {},
   "outputs": [],
   "source": [
    "upper_fence = np.quantile(ESG['Total ESG Risk score'],.75) - 1.5 * iqr(ESG['Total ESG Risk score'])"
   ]
  },
  {
   "cell_type": "code",
   "execution_count": 88,
   "id": "71b7af40",
   "metadata": {},
   "outputs": [
    {
     "data": {
      "text/plain": [
       "'upper fence is 10.875'"
      ]
     },
     "execution_count": 88,
     "metadata": {},
     "output_type": "execute_result"
    }
   ],
   "source": [
    "f\"upper fence is {upper_fence}\""
   ]
  },
  {
   "cell_type": "code",
   "execution_count": 89,
   "id": "b558425a",
   "metadata": {},
   "outputs": [],
   "source": [
    "import matplotlib.pyplot as plt"
   ]
  },
  {
   "cell_type": "code",
   "execution_count": 91,
   "id": "0b0296cc",
   "metadata": {},
   "outputs": [
    {
     "data": {
      "image/png": "[encoded data removed]",
      "text/plain": [
       "<Figure size 432x288 with 1 Axes>"
      ]
     },
     "metadata": {
      "needs_background": "light"
     },
     "output_type": "display_data"
    }
   ],
   "source": [
    "plt.boxplot(ESG['Total ESG Risk score'])\n",
    "plt.title('Boxplot for Total ESG Risk')\n",
    "plt.show()\n",
    "\n",
    "#outliers above 40. anything above 11 is outliers"
   ]
  },
  {
   "cell_type": "code",
   "execution_count": 92,
   "id": "568f62a5",
   "metadata": {},
   "outputs": [
    {
     "data": {
      "image/png": "[encoded data removed]",
      "text/plain": [
       "<Figure size 432x288 with 1 Axes>"
      ]
     },
     "metadata": {
      "needs_background": "light"
     },
     "output_type": "display_data"
    }
   ],
   "source": [
    "ESG.loc[ : , 'Total ESG Risk score'].hist(bins=30)\n",
    "plt.title('Histogram for Total ESG Risk, bins = 30')\n",
    "plt.show()"
   ]
  },
  {
   "cell_type": "code",
   "execution_count": 93,
   "id": "bc6534dc",
   "metadata": {},
   "outputs": [
    {
     "data": {
      "image/png": "[encoded data removed]",
      "text/plain": [
       "<Figure size 432x288 with 1 Axes>"
      ]
     },
     "metadata": {
      "needs_background": "light"
     },
     "output_type": "display_data"
    }
   ],
   "source": [
    "ESG.loc[ : , 'Total ESG Risk score'].hist(bins=100)\n",
    "plt.title('Histogram for Total ESG Risk, bins = 100')\n",
    "plt.show()"
   ]
  },
  {
   "cell_type": "code",
   "execution_count": 94,
   "id": "65fd1f4a",
   "metadata": {},
   "outputs": [
    {
     "data": {
      "text/html": [
       "<div>\n",
       "<style scoped>\n",
       "    .dataframe tbody tr th:only-of-type {\n",
       "        vertical-align: middle;\n",
       "    }\n",
       "\n",
       "    .dataframe tbody tr th {\n",
       "        vertical-align: top;\n",
       "    }\n",
       "\n",
       "    .dataframe thead tr th {\n",
       "        text-align: left;\n",
       "    }\n",
       "\n",
       "    .dataframe thead tr:last-of-type th {\n",
       "        text-align: right;\n",
       "    }\n",
       "</style>\n",
       "<table border=\"1\" class=\"dataframe\">\n",
       "  <thead>\n",
       "    <tr>\n",
       "      <th></th>\n",
       "      <th colspan=\"8\" halign=\"left\">Total ESG Risk score</th>\n",
       "      <th colspan=\"2\" halign=\"left\">Environment Risk Score</th>\n",
       "      <th>...</th>\n",
       "      <th colspan=\"2\" halign=\"left\">Social Risk Score</th>\n",
       "      <th colspan=\"8\" halign=\"left\">Controversy Score</th>\n",
       "    </tr>\n",
       "    <tr>\n",
       "      <th></th>\n",
       "      <th>count</th>\n",
       "      <th>mean</th>\n",
       "      <th>std</th>\n",
       "      <th>min</th>\n",
       "      <th>25%</th>\n",
       "      <th>50%</th>\n",
       "      <th>75%</th>\n",
       "      <th>max</th>\n",
       "      <th>count</th>\n",
       "      <th>mean</th>\n",
       "      <th>...</th>\n",
       "      <th>75%</th>\n",
       "      <th>max</th>\n",
       "      <th>count</th>\n",
       "      <th>mean</th>\n",
       "      <th>std</th>\n",
       "      <th>min</th>\n",
       "      <th>25%</th>\n",
       "      <th>50%</th>\n",
       "      <th>75%</th>\n",
       "      <th>max</th>\n",
       "    </tr>\n",
       "    <tr>\n",
       "      <th>Sector</th>\n",
       "      <th></th>\n",
       "      <th></th>\n",
       "      <th></th>\n",
       "      <th></th>\n",
       "      <th></th>\n",
       "      <th></th>\n",
       "      <th></th>\n",
       "      <th></th>\n",
       "      <th></th>\n",
       "      <th></th>\n",
       "      <th></th>\n",
       "      <th></th>\n",
       "      <th></th>\n",
       "      <th></th>\n",
       "      <th></th>\n",
       "      <th></th>\n",
       "      <th></th>\n",
       "      <th></th>\n",
       "      <th></th>\n",
       "      <th></th>\n",
       "      <th></th>\n",
       "    </tr>\n",
       "  </thead>\n",
       "  <tbody>\n",
       "    <tr>\n",
       "      <th>Basic Materials</th>\n",
       "      <td>15.0</td>\n",
       "      <td>27.866667</td>\n",
       "      <td>6.197542</td>\n",
       "      <td>11.0</td>\n",
       "      <td>26.50</td>\n",
       "      <td>29.0</td>\n",
       "      <td>32.0</td>\n",
       "      <td>34.0</td>\n",
       "      <td>15.0</td>\n",
       "      <td>12.806667</td>\n",
       "      <td>...</td>\n",
       "      <td>9.550</td>\n",
       "      <td>14.4</td>\n",
       "      <td>15.0</td>\n",
       "      <td>2.000000</td>\n",
       "      <td>0.845154</td>\n",
       "      <td>1.0</td>\n",
       "      <td>1.5</td>\n",
       "      <td>2.0</td>\n",
       "      <td>2.0</td>\n",
       "      <td>4.0</td>\n",
       "    </tr>\n",
       "    <tr>\n",
       "      <th>Communication Services</th>\n",
       "      <td>13.0</td>\n",
       "      <td>18.923077</td>\n",
       "      <td>6.836928</td>\n",
       "      <td>10.0</td>\n",
       "      <td>15.00</td>\n",
       "      <td>18.0</td>\n",
       "      <td>24.0</td>\n",
       "      <td>33.0</td>\n",
       "      <td>13.0</td>\n",
       "      <td>1.469231</td>\n",
       "      <td>...</td>\n",
       "      <td>12.500</td>\n",
       "      <td>21.0</td>\n",
       "      <td>13.0</td>\n",
       "      <td>2.538462</td>\n",
       "      <td>1.050031</td>\n",
       "      <td>1.0</td>\n",
       "      <td>2.0</td>\n",
       "      <td>2.0</td>\n",
       "      <td>3.0</td>\n",
       "      <td>4.0</td>\n",
       "    </tr>\n",
       "    <tr>\n",
       "      <th>Consumer Cyclical</th>\n",
       "      <td>48.0</td>\n",
       "      <td>18.625000</td>\n",
       "      <td>6.221531</td>\n",
       "      <td>11.0</td>\n",
       "      <td>13.00</td>\n",
       "      <td>17.0</td>\n",
       "      <td>24.0</td>\n",
       "      <td>31.0</td>\n",
       "      <td>48.0</td>\n",
       "      <td>4.747917</td>\n",
       "      <td>...</td>\n",
       "      <td>11.375</td>\n",
       "      <td>16.7</td>\n",
       "      <td>48.0</td>\n",
       "      <td>2.145833</td>\n",
       "      <td>0.618495</td>\n",
       "      <td>1.0</td>\n",
       "      <td>2.0</td>\n",
       "      <td>2.0</td>\n",
       "      <td>2.0</td>\n",
       "      <td>4.0</td>\n",
       "    </tr>\n",
       "    <tr>\n",
       "      <th>Consumer Defensive</th>\n",
       "      <td>29.0</td>\n",
       "      <td>24.379310</td>\n",
       "      <td>6.779242</td>\n",
       "      <td>12.0</td>\n",
       "      <td>21.00</td>\n",
       "      <td>24.0</td>\n",
       "      <td>27.0</td>\n",
       "      <td>37.0</td>\n",
       "      <td>29.0</td>\n",
       "      <td>8.141379</td>\n",
       "      <td>...</td>\n",
       "      <td>12.400</td>\n",
       "      <td>15.9</td>\n",
       "      <td>29.0</td>\n",
       "      <td>2.620690</td>\n",
       "      <td>0.621852</td>\n",
       "      <td>2.0</td>\n",
       "      <td>2.0</td>\n",
       "      <td>3.0</td>\n",
       "      <td>3.0</td>\n",
       "      <td>4.0</td>\n",
       "    </tr>\n",
       "    <tr>\n",
       "      <th>Energy</th>\n",
       "      <td>17.0</td>\n",
       "      <td>33.529412</td>\n",
       "      <td>7.142458</td>\n",
       "      <td>19.0</td>\n",
       "      <td>29.00</td>\n",
       "      <td>36.0</td>\n",
       "      <td>37.0</td>\n",
       "      <td>46.0</td>\n",
       "      <td>17.0</td>\n",
       "      <td>17.447059</td>\n",
       "      <td>...</td>\n",
       "      <td>9.700</td>\n",
       "      <td>14.5</td>\n",
       "      <td>17.0</td>\n",
       "      <td>1.941176</td>\n",
       "      <td>0.658653</td>\n",
       "      <td>1.0</td>\n",
       "      <td>2.0</td>\n",
       "      <td>2.0</td>\n",
       "      <td>2.0</td>\n",
       "      <td>3.0</td>\n",
       "    </tr>\n",
       "    <tr>\n",
       "      <th>Financial Services</th>\n",
       "      <td>49.0</td>\n",
       "      <td>20.102041</td>\n",
       "      <td>4.637909</td>\n",
       "      <td>11.0</td>\n",
       "      <td>17.00</td>\n",
       "      <td>20.0</td>\n",
       "      <td>23.0</td>\n",
       "      <td>33.0</td>\n",
       "      <td>49.0</td>\n",
       "      <td>1.265306</td>\n",
       "      <td>...</td>\n",
       "      <td>10.800</td>\n",
       "      <td>16.2</td>\n",
       "      <td>49.0</td>\n",
       "      <td>2.020408</td>\n",
       "      <td>0.901152</td>\n",
       "      <td>1.0</td>\n",
       "      <td>1.0</td>\n",
       "      <td>2.0</td>\n",
       "      <td>2.0</td>\n",
       "      <td>5.0</td>\n",
       "    </tr>\n",
       "    <tr>\n",
       "      <th>Healthcare</th>\n",
       "      <td>46.0</td>\n",
       "      <td>20.630435</td>\n",
       "      <td>5.634650</td>\n",
       "      <td>11.0</td>\n",
       "      <td>17.25</td>\n",
       "      <td>21.0</td>\n",
       "      <td>24.0</td>\n",
       "      <td>33.0</td>\n",
       "      <td>46.0</td>\n",
       "      <td>1.656522</td>\n",
       "      <td>...</td>\n",
       "      <td>14.000</td>\n",
       "      <td>21.0</td>\n",
       "      <td>46.0</td>\n",
       "      <td>2.304348</td>\n",
       "      <td>0.785127</td>\n",
       "      <td>1.0</td>\n",
       "      <td>2.0</td>\n",
       "      <td>2.0</td>\n",
       "      <td>3.0</td>\n",
       "      <td>4.0</td>\n",
       "    </tr>\n",
       "    <tr>\n",
       "      <th>Industrials</th>\n",
       "      <td>47.0</td>\n",
       "      <td>23.446809</td>\n",
       "      <td>7.374482</td>\n",
       "      <td>11.0</td>\n",
       "      <td>18.00</td>\n",
       "      <td>22.0</td>\n",
       "      <td>28.5</td>\n",
       "      <td>41.0</td>\n",
       "      <td>47.0</td>\n",
       "      <td>6.838298</td>\n",
       "      <td>...</td>\n",
       "      <td>13.200</td>\n",
       "      <td>19.7</td>\n",
       "      <td>47.0</td>\n",
       "      <td>1.893617</td>\n",
       "      <td>0.786684</td>\n",
       "      <td>1.0</td>\n",
       "      <td>1.0</td>\n",
       "      <td>2.0</td>\n",
       "      <td>2.0</td>\n",
       "      <td>4.0</td>\n",
       "    </tr>\n",
       "    <tr>\n",
       "      <th>Real Estate</th>\n",
       "      <td>20.0</td>\n",
       "      <td>13.750000</td>\n",
       "      <td>3.753945</td>\n",
       "      <td>9.0</td>\n",
       "      <td>12.00</td>\n",
       "      <td>12.5</td>\n",
       "      <td>15.0</td>\n",
       "      <td>27.0</td>\n",
       "      <td>20.0</td>\n",
       "      <td>3.990000</td>\n",
       "      <td>...</td>\n",
       "      <td>4.025</td>\n",
       "      <td>13.1</td>\n",
       "      <td>20.0</td>\n",
       "      <td>1.150000</td>\n",
       "      <td>0.366348</td>\n",
       "      <td>1.0</td>\n",
       "      <td>1.0</td>\n",
       "      <td>1.0</td>\n",
       "      <td>1.0</td>\n",
       "      <td>2.0</td>\n",
       "    </tr>\n",
       "    <tr>\n",
       "      <th>Technology</th>\n",
       "      <td>43.0</td>\n",
       "      <td>17.186047</td>\n",
       "      <td>5.151310</td>\n",
       "      <td>10.0</td>\n",
       "      <td>14.00</td>\n",
       "      <td>16.0</td>\n",
       "      <td>19.0</td>\n",
       "      <td>35.0</td>\n",
       "      <td>43.0</td>\n",
       "      <td>3.816279</td>\n",
       "      <td>...</td>\n",
       "      <td>9.000</td>\n",
       "      <td>14.0</td>\n",
       "      <td>43.0</td>\n",
       "      <td>1.720930</td>\n",
       "      <td>0.796587</td>\n",
       "      <td>0.0</td>\n",
       "      <td>1.0</td>\n",
       "      <td>2.0</td>\n",
       "      <td>2.0</td>\n",
       "      <td>4.0</td>\n",
       "    </tr>\n",
       "    <tr>\n",
       "      <th>Utilities</th>\n",
       "      <td>21.0</td>\n",
       "      <td>28.285714</td>\n",
       "      <td>4.849153</td>\n",
       "      <td>19.0</td>\n",
       "      <td>24.00</td>\n",
       "      <td>30.0</td>\n",
       "      <td>32.0</td>\n",
       "      <td>35.0</td>\n",
       "      <td>21.0</td>\n",
       "      <td>12.785714</td>\n",
       "      <td>...</td>\n",
       "      <td>10.000</td>\n",
       "      <td>21.0</td>\n",
       "      <td>21.0</td>\n",
       "      <td>2.190476</td>\n",
       "      <td>0.813575</td>\n",
       "      <td>1.0</td>\n",
       "      <td>2.0</td>\n",
       "      <td>2.0</td>\n",
       "      <td>2.0</td>\n",
       "      <td>5.0</td>\n",
       "    </tr>\n",
       "  </tbody>\n",
       "</table>\n",
       "<p>11 rows × 40 columns</p>\n",
       "</div>"
      ],
      "text/plain": [
       "                       Total ESG Risk score                                    \\\n",
       "                                      count       mean       std   min    25%   \n",
       "Sector                                                                          \n",
       "Basic Materials                        15.0  27.866667  6.197542  11.0  26.50   \n",
       "Communication Services                 13.0  18.923077  6.836928  10.0  15.00   \n",
       "Consumer Cyclical                      48.0  18.625000  6.221531  11.0  13.00   \n",
       "Consumer Defensive                     29.0  24.379310  6.779242  12.0  21.00   \n",
       "Energy                                 17.0  33.529412  7.142458  19.0  29.00   \n",
       "Financial Services                     49.0  20.102041  4.637909  11.0  17.00   \n",
       "Healthcare                             46.0  20.630435  5.634650  11.0  17.25   \n",
       "Industrials                            47.0  23.446809  7.374482  11.0  18.00   \n",
       "Real Estate                            20.0  13.750000  3.753945   9.0  12.00   \n",
       "Technology                             43.0  17.186047  5.151310  10.0  14.00   \n",
       "Utilities                              21.0  28.285714  4.849153  19.0  24.00   \n",
       "\n",
       "                                         Environment Risk Score             \\\n",
       "                         50%   75%   max                  count       mean   \n",
       "Sector                                                                       \n",
       "Basic Materials         29.0  32.0  34.0                   15.0  12.806667   \n",
       "Communication Services  18.0  24.0  33.0                   13.0   1.469231   \n",
       "Consumer Cyclical       17.0  24.0  31.0                   48.0   4.747917   \n",
       "Consumer Defensive      24.0  27.0  37.0                   29.0   8.141379   \n",
       "Energy                  36.0  37.0  46.0                   17.0  17.447059   \n",
       "Financial Services      20.0  23.0  33.0                   49.0   1.265306   \n",
       "Healthcare              21.0  24.0  33.0                   46.0   1.656522   \n",
       "Industrials             22.0  28.5  41.0                   47.0   6.838298   \n",
       "Real Estate             12.5  15.0  27.0                   20.0   3.990000   \n",
       "Technology              16.0  19.0  35.0                   43.0   3.816279   \n",
       "Utilities               30.0  32.0  35.0                   21.0  12.785714   \n",
       "\n",
       "                        ... Social Risk Score       Controversy Score  \\\n",
       "                        ...               75%   max             count   \n",
       "Sector                  ...                                             \n",
       "Basic Materials         ...             9.550  14.4              15.0   \n",
       "Communication Services  ...            12.500  21.0              13.0   \n",
       "Consumer Cyclical       ...            11.375  16.7              48.0   \n",
       "Consumer Defensive      ...            12.400  15.9              29.0   \n",
       "Energy                  ...             9.700  14.5              17.0   \n",
       "Financial Services      ...            10.800  16.2              49.0   \n",
       "Healthcare              ...            14.000  21.0              46.0   \n",
       "Industrials             ...            13.200  19.7              47.0   \n",
       "Real Estate             ...             4.025  13.1              20.0   \n",
       "Technology              ...             9.000  14.0              43.0   \n",
       "Utilities               ...            10.000  21.0              21.0   \n",
       "\n",
       "                                                                     \n",
       "                            mean       std  min  25%  50%  75%  max  \n",
       "Sector                                                               \n",
       "Basic Materials         2.000000  0.845154  1.0  1.5  2.0  2.0  4.0  \n",
       "Communication Services  2.538462  1.050031  1.0  2.0  2.0  3.0  4.0  \n",
       "Consumer Cyclical       2.145833  0.618495  1.0  2.0  2.0  2.0  4.0  \n",
       "Consumer Defensive      2.620690  0.621852  2.0  2.0  3.0  3.0  4.0  \n",
       "Energy                  1.941176  0.658653  1.0  2.0  2.0  2.0  3.0  \n",
       "Financial Services      2.020408  0.901152  1.0  1.0  2.0  2.0  5.0  \n",
       "Healthcare              2.304348  0.785127  1.0  2.0  2.0  3.0  4.0  \n",
       "Industrials             1.893617  0.786684  1.0  1.0  2.0  2.0  4.0  \n",
       "Real Estate             1.150000  0.366348  1.0  1.0  1.0  1.0  2.0  \n",
       "Technology              1.720930  0.796587  0.0  1.0  2.0  2.0  4.0  \n",
       "Utilities               2.190476  0.813575  1.0  2.0  2.0  2.0  5.0  \n",
       "\n",
       "[11 rows x 40 columns]"
      ]
     },
     "execution_count": 94,
     "metadata": {},
     "output_type": "execute_result"
    }
   ],
   "source": [
    "ESG.groupby('Sector').describe()"
   ]
  },
  {
   "cell_type": "code",
   "execution_count": 98,
   "id": "b84a77a5",
   "metadata": {
    "scrolled": true
   },
   "outputs": [
    {
     "data": {
      "text/plain": [
       "array([<AxesSubplot:title={'center':'Governance Risk Score'}, xlabel='[Sector]'>,\n",
       "       <AxesSubplot:title={'center':'Total ESG Risk score'}, xlabel='[Sector]'>],\n",
       "      dtype=object)"
      ]
     },
     "execution_count": 98,
     "metadata": {},
     "output_type": "execute_result"
    },
    {
     "data": {
      "image/png": "[encoded data removed]",
      "text/plain": [
       "<Figure size 864x360 with 2 Axes>"
      ]
     },
     "metadata": {
      "needs_background": "light"
     },
     "output_type": "display_data"
    }
   ],
   "source": [
    "ESG.boxplot(by = \"Sector\",fontsize=12, figsize = (12, 5))"
   ]
  },
  {
   "cell_type": "code",
   "execution_count": 99,
   "id": "46d5d099",
   "metadata": {},
   "outputs": [
    {
     "name": "stdout",
     "output_type": "stream",
     "text": [
      "                                   Total ESG Risk score  Governance Risk Score\n",
      "Statistics  count                            348.000000             348.000000\n",
      "            mean                              21.491379               6.731034\n",
      "            std                                7.381138               2.151780\n",
      "            min                                9.000000               3.000000\n",
      "            25%                               16.000000               5.200000\n",
      "            50%                               21.000000               6.200000\n",
      "            75%                               26.250000               7.700000\n",
      "            max                               46.000000              15.500000\n",
      "Correlation Total ESG Risk score               1.000000               0.393085\n",
      "            Governance Risk Score              0.393085               1.000000\n"
     ]
    }
   ],
   "source": [
    "import pandas as pd\n",
    "\n",
    "# Assuming you have a DataFrame named 'Exams' with columns 'math.score' and 'reading.score'\n",
    "# Calculate the correlation matrix\n",
    "correlation_matrix = ESG.corr()\n",
    "\n",
    "# Calculate the basic statistics using describe\n",
    "describe_stats = ESG.describe()\n",
    "\n",
    "# Concatenate or merge the correlation matrix and describe statistics\n",
    "result = pd.concat([describe_stats, correlation_matrix], keys=[\"Statistics\", \"Correlation\"])\n",
    "\n",
    "# Print the result\n",
    "print(result)"
   ]
  },
  {
   "cell_type": "code",
   "execution_count": null,
   "id": "07e9fa96",
   "metadata": {},
   "outputs": [],
   "source": []
  }
 ],
 "metadata": {
  "kernelspec": {
   "display_name": "Python 3 (ipykernel)",
   "language": "python",
   "name": "python3"
  },
  "language_info": {
   "codemirror_mode": {
    "name": "ipython",
    "version": 3
   },
   "file_extension": ".py",
   "mimetype": "text/x-python",
   "name": "python",
   "nbconvert_exporter": "python",
   "pygments_lexer": "ipython3",
   "version": "3.9.7"
  }
 },
 "nbformat": 4,
 "nbformat_minor": 5
}
